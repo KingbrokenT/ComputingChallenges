{
 "cells": [
  {
   "cell_type": "code",
   "execution_count": 1,
   "metadata": {},
   "outputs": [],
   "source": [
    "# Explanation for Part A\n",
    "# We hav a catepillar trying to escape a 10 x 12 room. putting the origin of our room at the bottom\n",
    "# corner, the catepillar is at (7,0) and the door is between (0,6) and (0, 8). First, we will find the\n",
    "# chance of escape. The chance of escape is really just the % of possible paths that the catepillar can\n",
    "# walk that end on the door.\n",
    "# The catepillar can choose a trajectory that is in any one of the 180 degrees infront of it. This\n",
    "# means that you can use the angle subtended by the door infront of the catepillar divided by 180 as\n",
    "# the chance of escaping the room on the first move.\n",
    "# We can find that angle by find the angle between x-axis and the line between the door's edges and\n",
    "# the catepillar by taking the arctan(6/7) and then arctan (8/7). The difference between those is the angle\n",
    "# we want"
   ]
  },
  {
   "cell_type": "code",
   "execution_count": 4,
   "metadata": {},
   "outputs": [],
   "source": [
    "import numpy as np\n",
    "\n",
    "import matplotlib.pyplot as plt\n",
    "\n",
    "import math\n",
    "\n",
    "import random\n"
   ]
  },
  {
   "cell_type": "code",
   "execution_count": 4,
   "metadata": {},
   "outputs": [
    {
     "name": "stdout",
     "output_type": "stream",
     "text": [
      "The angle subtended by the door is 0.14334005504560177 radians.\n",
      "The chance of escaping on the first move is 4.56265566071438 percent.\n"
     ]
    }
   ],
   "source": [
    "# Part A\n",
    "# angle between the x-axis and the line between bottom edge of the door and the catepillar\n",
    "angle_bottom = math.atan(6/7)\n",
    "\n",
    "# angle between the x-axis and the line between top edge of the door and the catepillar\n",
    "angle_top = math.atan(8/7)\n",
    "\n",
    "# angle subtended by the door\n",
    "door_angle = angle_top - angle_bottom\n",
    "print(f'The angle subtended by the door is {door_angle} radians.')\n",
    "escape_chance = door_angle/math.pi*100\n",
    "\n",
    "print(f'The chance of escaping on the first move is {escape_chance} percent.')"
   ]
  },
  {
   "cell_type": "code",
   "execution_count": 26,
   "metadata": {},
   "outputs": [],
   "source": [
    "# Function for Part B\n",
    "# To figure out how long it takes to escape on average, we can just simulate the movements of the\n",
    "# catepillar through the room\n",
    "def CatepillarSim():\n",
    "    '''\n",
    "    This function will simulate catepillar moving through the room. It stops when the catepillar escapes\n",
    "    under the door positioned as described above. The floor of the room is 12 x 10.\n",
    "    \n",
    "    Inputs:\n",
    "        none\n",
    "    \n",
    "    Outputs: \n",
    "        time: Float; how long in seconds the catepillar moved\n",
    "\n",
    "        pos_history: list of 2 element tuples; the places the catepillar stopped\n",
    "    '''\n",
    "    # initializing the start point\n",
    "    pos_history = [(7,0)]\n",
    "    x,y = (7,0)\n",
    "    # t is going to be the distance between our points. We can initialize some useful t containers\n",
    "    t_history = []\n",
    "    t_temp = np.zeros(4)\n",
    "    \n",
    "    # setting up the exit condition for your while loop\n",
    "    while not (6 <= y <= 8 and x == 0):\n",
    "        # this picks a random angular trajectory. technically it won't pick pi, but whatever...\n",
    "        angle = math.pi*random.uniform(0,1)\n",
    "\n",
    "        # convert this into a unit vector\n",
    "        unit_x = math.cos(angle)\n",
    "        unit_y = math.sin(angle)\n",
    "        \n",
    "        # Now we need to find the coordinate where the vector defined by the starting position and unit\n",
    "        # vector connect with the different planes that make up the square\n",
    "        # these are x = 0, x = 12, y = 0, y = 10\n",
    "        # our vector is going to be final_point = starting point + t*unit_vector\n",
    "        # x_f = x_i +t*u_x ==> t = (xf - xi) ux\n",
    "        t_temp[0] = (0 - x)/unit_x\n",
    "        t_temp[1] = (12 - x)/unit_x\n",
    "        t_temp[2] = (0 - y)/unit_y\n",
    "        t_temp[3] = (10 - y)/unit_y\n",
    "        #reassign = 0\n",
    "        for t in t_temp:\n",
    "            # If t == 0 then we didn't move\n",
    "            if not t == 0:\n",
    "                # What are the coordinates for the given t\n",
    "                x_temp = unit_x * t + x\n",
    "                y_temp = unit_y * t + y\n",
    "                # if those coordinates are inside the box then that is where we move to\n",
    "                if 0 <= x_temp <= 12 and 0 <= y_temp <= 10:\n",
    "                    x = x_temp\n",
    "                    y = y_temp\n",
    "                    pos_history.append((x_temp,y_temp))\n",
    "                    # keep track of how far we move\n",
    "                    t_history.append(abs(t))\n",
    "                    break\n",
    "            else:\n",
    "                continue\n",
    "    # covert the feet to cm\n",
    "    dist = np.asarray(t_history) * 30.48\n",
    "    time = np.sum(dist) /0.5\n",
    "    return time, pos_history\n",
    "\n",
    "        "
   ]
  },
  {
   "cell_type": "code",
   "execution_count": 27,
   "metadata": {},
   "outputs": [
    {
     "name": "stdout",
     "output_type": "stream",
     "text": [
      "13404.13771945639\n",
      "(0.0, 7.962392719012845)\n",
      "50\n"
     ]
    }
   ],
   "source": [
    "time, pos_history = CatepillarSim()\n",
    "\n",
    "print(time)\n",
    "print(pos_history[-1])\n",
    "print(np.size(pos_history))"
   ]
  },
  {
   "cell_type": "code",
   "execution_count": 48,
   "metadata": {},
   "outputs": [],
   "source": [
    "# Second Function for Part B\n",
    "def CatepillarSimMulti(iters):\n",
    "    '''\n",
    "    This function runs the Catepillar some n times where n is given by iters.\n",
    "    It records all the times and then reports the average of that and then builds out a histogram\n",
    "\n",
    "    Inputs:\n",
    "        iters: interger; number of times to run Catepillar sim\n",
    "\n",
    "    Outputs:\n",
    "        Prints the average escape time in hours\n",
    "        Histogram of escape times in hours\n",
    "    '''\n",
    "    times = np.zeros(iters)\n",
    "    for i in range(iters):\n",
    "        time, pos_history = CatepillarSim()\n",
    "        times[i] = time\n",
    "    \n",
    "    times_hrs = times/60/60\n",
    "    avg_time = np.average(times_hrs)\n",
    "\n",
    "    print(f'The average escape time for the catepillar is {avg_time} hours')\n",
    "\n",
    "    fig = plt.figure(figsize = (7,4))\n",
    "    plt.hist(times_hrs)\n",
    "    plt.xlabel('Escape time (hours)')\n",
    "    plt.ylabel('counts')\n",
    "    plt.title('Histogram of escapetime')"
   ]
  },
  {
   "cell_type": "code",
   "execution_count": 49,
   "metadata": {},
   "outputs": [
    {
     "name": "stdout",
     "output_type": "stream",
     "text": [
      "The average escape time for the catepillar is 3.2241832024560733 hours\n"
     ]
    },
    {
     "data": {
      "image/png": "[encoded data removed]",
      "text/plain": [
       "<Figure size 504x288 with 1 Axes>"
      ]
     },
     "metadata": {
      "needs_background": "light"
     },
     "output_type": "display_data"
    }
   ],
   "source": [
    "# Part B\n",
    "CatepillarSimMulti(10000)"
   ]
  },
  {
   "cell_type": "code",
   "execution_count": 40,
   "metadata": {},
   "outputs": [],
   "source": [
    "# Function for Part C.2\n",
    "def ButterflySim():\n",
    "    '''\n",
    "    This function will simulate the wall to wall movement of the butterfly through 3 dimensions in a \n",
    "    12 by 10 by 8 room with a window in the center of the wall accross from the starting point of the\n",
    "    butterfly. The window is 3 feet long and 2 feet high. The sim stops when the butterfly escapes\n",
    "    through the window.\n",
    "    \n",
    "    Inputs:\n",
    "        None\n",
    "    \n",
    "    Outputs:\n",
    "        time: float; escape time in seconds\n",
    "\n",
    "        pos_history: list of 3 element tuples; places where the butterfly landed\n",
    "    '''\n",
    "    # initializing the start point\n",
    "    pos_history = [(7,0,0)]\n",
    "    x,y,z = (7,0,0)\n",
    "    # t is going to be the distance between our points. We can initialize some useful t containers\n",
    "    t_history = []\n",
    "    # We have 6 different planes to check\n",
    "    t_temp = np.zeros(6)\n",
    "    # the window is on the center of the wall across from the butterfly that point should be \n",
    "    # (6.5, 10, 4.5) and the window is 3 feet across (in x) and 2 feet high (in z)\n",
    "    while not (y == 10 and 4.5 <= x <= 7.5 and 3.5 <= z <= 5.5):\n",
    "        # in 3 dimensions we have two angles, the azimuth(theta) and the elevation(phi). The azimuth\n",
    "        # varies between 0 and pi and the elevation varies between -pi/2 and pi/2\n",
    "        # there might be some issues with how we pick phi becuase phi is usually defined as the angle\n",
    "        # along the z axis, measured from the horizontal\n",
    "        theta = math.pi*random.uniform(0,1)\n",
    "        # we will probably never land on an edge, but we do start on an edge so lets make sure we pick\n",
    "        # a possible phi (phi cannot be negative on a edge)\n",
    "        if (y == 0 and z == 0):\n",
    "            phi = math.pi*random.uniform(0,1)/2\n",
    "        else:\n",
    "            phi = math.pi*random.uniform(-1,1)/2\n",
    "        # convert angles to unit vectors\n",
    "        unit_x = math.cos(phi)*math.cos(theta)\n",
    "        unit_y = math.cos(phi)*math.sin(theta)\n",
    "        unit_z = math.sin(phi)\n",
    "        # Just like before, we look for the intersection between our planes and the vector defined by\n",
    "        # final_point = starting_point + t*unit_vector\n",
    "        # this time, instead of hitting lines, we hit planes defined by \n",
    "        # z = 0, z = 8, y = 0, y = 10, x = 0, x = 12\n",
    "        t_temp[0] = (0 - x)/unit_x\n",
    "        t_temp[1] = (12 - x)/unit_x\n",
    "        t_temp[2] = (0 - y)/unit_y\n",
    "        t_temp[3] = (10 - y)/unit_y \n",
    "        t_temp[4] = (0 - z)/unit_z\n",
    "        t_temp[5] = (8 - z)/unit_z\n",
    "        \n",
    "        for t in t_temp:\n",
    "            # If t == 0 then we didn't move\n",
    "            if not t == 0:\n",
    "                \n",
    "                # What are the coordinates for the given t\n",
    "                x_temp = unit_x * t + x\n",
    "                y_temp = unit_y * t + y\n",
    "                z_temp = unit_z * t + z\n",
    "                \n",
    "                # if those coordinates are inside the box then that is where we move to\n",
    "                if (0 <= x_temp <= 12 and 0 <= y_temp <= 10 and 0 <= z_temp <= 8):\n",
    "                    x = x_temp\n",
    "                    y = y_temp\n",
    "                    z = z_temp\n",
    "                    \n",
    "                    pos_history.append((x_temp,y_temp, z_temp))\n",
    "                    # keep track of how far we move\n",
    "                    t_history.append(abs(t))\n",
    "                    break\n",
    "            else:\n",
    "                continue\n",
    "    # convert t_history to miles\n",
    "    dist = np.asarray(t_history) / 5280\n",
    "    # speed is 5 miles per hour, so this is time in hours\n",
    "    time = np.sum(dist) /5\n",
    "    return time, pos_history\n"
   ]
  },
  {
   "cell_type": "code",
   "execution_count": 41,
   "metadata": {},
   "outputs": [
    {
     "name": "stdout",
     "output_type": "stream",
     "text": [
      "0.003770816542304667\n",
      "(7.460937008686024, 10.0, 3.637267910158805)\n",
      "54\n"
     ]
    }
   ],
   "source": [
    "time,pos_history = ButterflySim()\n",
    "\n",
    "print(time)\n",
    "print(pos_history[-1])\n",
    "print(np.size(pos_history))\n"
   ]
  },
  {
   "cell_type": "code",
   "execution_count": 52,
   "metadata": {},
   "outputs": [],
   "source": [
    "# Second Function for Part C.2\n",
    "def ButterflySimMulti(iters):\n",
    "    '''\n",
    "    This function runs the Butterfly some n times where n is given by iters.\n",
    "    It records all the times and then reports the average of that and then builds out a histogram\n",
    "\n",
    "    Inputs:\n",
    "        iters: interger; number of times to run ButterflySim\n",
    "\n",
    "    Outputs:\n",
    "        Prints the average escape time in hours\n",
    "        Histogram of escape times in hours\n",
    "    '''\n",
    "    times = np.zeros(iters)\n",
    "    for i in range(iters):\n",
    "        time, pos_history = ButterflySim()\n",
    "        times[i] = time\n",
    "    \n",
    "    avg_time = np.average(times)\n",
    "\n",
    "    print(f'The average escape time for the butterfly is {avg_time} hour')\n",
    "\n",
    "    fig = plt.figure(figsize = (7,4))\n",
    "    plt.hist(times)\n",
    "    plt.xlabel('Escape time (hour)')\n",
    "    plt.ylabel('counts')\n",
    "    plt.title('Histogram of escape_time')"
   ]
  },
  {
   "cell_type": "code",
   "execution_count": 53,
   "metadata": {},
   "outputs": [
    {
     "name": "stdout",
     "output_type": "stream",
     "text": [
      "The average escape time for the butterfly is 0.03685864201432299 hour\n"
     ]
    },
    {
     "data": {
      "image/png": "[encoded data removed]",
      "text/plain": [
       "<Figure size 504x288 with 1 Axes>"
      ]
     },
     "metadata": {
      "needs_background": "light"
     },
     "output_type": "display_data"
    }
   ],
   "source": [
    "# Part C 2\n",
    "ButterflySimMulti(10000)"
   ]
  },
  {
   "cell_type": "code",
   "execution_count": 54,
   "metadata": {},
   "outputs": [],
   "source": [
    "# we have done this a little bit backwards. We found the average escape time before finding the chance\n",
    "# of escape on the first move. Just as we can find the escape chance in the 2d case using the angle \n",
    "# subtended by the door, we can find the escape chance in the 3d case by the solid angle subtended by\n",
    "# the window. However, the positioning of the window makes this really difficult to do, so instead we\n",
    "# will find this by simulating the first step a few 1000 times to find the chance of escaping in one\n",
    "# move"
   ]
  },
  {
   "cell_type": "code",
   "execution_count": 61,
   "metadata": {},
   "outputs": [],
   "source": [
    "# Function for Part C.1\n",
    "def ButterflySimStep1(iters):\n",
    "    '''\n",
    "    We are going to simulate the first step of ButterflySim n times, where n is iters. On each sim, we\n",
    "    will collect a 1 if we escape and then a 0 if we don't into a list of results. then we can use the \n",
    "    sum of this list divided by its length to find the escape chance\n",
    "\n",
    "    Inputs:\n",
    "        iters: interger; number of times to simulate the first step\n",
    "\n",
    "    Outputs:\n",
    "        Prints the chance of escaping on the first movement \n",
    "    '''\n",
    "    # initialize escape matrix\n",
    "    escape = np.zeros(iters)\n",
    "    # initial position\n",
    "    x,y,z = (7,0,0)\n",
    "    # loop iters times\n",
    "    t_temp = np.zeros(6)\n",
    "    for i in range(iters):\n",
    "        # select our initial angles\n",
    "        theta = math.pi*random.uniform(0,1)\n",
    "        # We are on the edge, so we cannot move in the negative part of phi\n",
    "        phi = math.pi*random.uniform(0,1)/2\n",
    "        # get our unit vectors\n",
    "        unit_x = math.cos(phi)*math.cos(theta)\n",
    "        unit_y = math.cos(phi)*math.sin(theta)\n",
    "        unit_z = math.sin(phi)\n",
    "        # grab the t that intersect with each plane\n",
    "        t_temp[0] = (0 - x)/unit_x\n",
    "        t_temp[1] = (12 - x)/unit_x\n",
    "        t_temp[2] = (0 - y)/unit_y\n",
    "        t_temp[3] = (10 - y)/unit_y \n",
    "        t_temp[4] = (0 - z)/unit_z\n",
    "        t_temp[5] = (8 - z)/unit_z\n",
    "        # iterate through t_temp to see which move was possible\n",
    "        for t in t_temp:\n",
    "            # If t == 0 then we didn't move\n",
    "            if not t == 0:\n",
    "                \n",
    "                # What are the coordinates for the given t\n",
    "                x_temp = unit_x * t + x\n",
    "                y_temp = unit_y * t + y\n",
    "                z_temp = unit_z * t + z\n",
    "                \n",
    "                # if those coordinates are inside the box \n",
    "                if (0 <= x_temp <= 12 and 0 <= y_temp <= 10 and 0 <= z_temp <= 8):\n",
    "                    # and if the the move puts us in the window\n",
    "                    if (y_temp == 10 and 4.5 <= x_temp <= 7.5 and 3.5 <= z_temp <= 5.5):\n",
    "                        escape[i] = 1\n",
    "                    else: \n",
    "                        escape[i] = 0\n",
    "                    break\n",
    "            else:\n",
    "                continue\n",
    "    escape_chance = np.sum(escape)/np.size(escape)*100\n",
    "    \n",
    "    return escape_chance\n"
   ]
  },
  {
   "cell_type": "code",
   "execution_count": 68,
   "metadata": {},
   "outputs": [
    {
     "name": "stdout",
     "output_type": "stream",
     "text": [
      "The chance of escape on the first step is 0.9813000000000001 %!\n"
     ]
    }
   ],
   "source": [
    "# Part C1\n",
    "escape_chance = ButterflySimStep1(1000000)\n",
    "\n",
    "print(f'The chance of escape on the first step is {escape_chance} %!')"
   ]
  },
  {
   "cell_type": "code",
   "execution_count": null,
   "metadata": {},
   "outputs": [],
   "source": []
  },
  {
   "cell_type": "code",
   "execution_count": null,
   "metadata": {},
   "outputs": [],
   "source": []
  }
 ],
 "metadata": {
  "kernelspec": {
   "display_name": "Python 3.8.8 ('base')",
   "language": "python",
   "name": "python3"
  },
  "language_info": {
   "codemirror_mode": {
    "name": "ipython",
    "version": 3
   },
   "file_extension": ".py",
   "mimetype": "text/x-python",
   "name": "python",
   "nbconvert_exporter": "python",
   "pygments_lexer": "ipython3",
   "version": "3.8.8"
  },
  "orig_nbformat": 4,
  "vscode": {
   "interpreter": {
    "hash": "f5ec4f5abb42c8def48fd8f20dbba607f2f56bc05cd625983e88adc591328b29"
   }
  }
 },
 "nbformat": 4,
 "nbformat_minor": 2
}
